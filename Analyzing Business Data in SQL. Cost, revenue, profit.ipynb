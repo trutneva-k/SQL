{
 "cells": [
  {
   "cell_type": "markdown",
   "id": "21a671fb",
   "metadata": {},
   "source": [
    "###  Analyzing Business Data in SQL. Cost, revenue, profit"
   ]
  },
  {
   "cell_type": "markdown",
   "id": "2c682139",
   "metadata": {},
   "source": [
    "#### Task: calculate the total revenue. Keep only the records of user ID 15"
   ]
  },
  {
   "cell_type": "markdown",
   "id": "d619ec61",
   "metadata": {},
   "source": [
    "```sql\n",
    "-- Calculate revenue\n",
    "SELECT  sum(meal_price*order_quantity) AS revenue\n",
    "  FROM meals\n",
    "  JOIN orders ON meals.meal_id = orders.meal_id\n",
    "\n",
    "-- Keep only the records of customer ID 15\n",
    "WHERE user_id = 15;\n",
    "\n",
    "```"
   ]
  },
  {
   "cell_type": "markdown",
   "id": "5f4913c3",
   "metadata": {},
   "source": [
    "#### Task2. Write the expression for revenue.\n",
    "Keep only the records of June 2018."
   ]
  },
  {
   "cell_type": "markdown",
   "id": "ea838360",
   "metadata": {},
   "source": [
    "```sql\n",
    "SELECT DATE_TRUNC('week', order_date) :: DATE AS delivr_week,\n",
    "       -- Calculate revenue\n",
    "       sum(order_quantity*\tmeal_price) AS revenue\n",
    "  FROM meals\n",
    "  JOIN orders ON meals.meal_id = orders.meal_id\n",
    "-- Keep only the records in June 2018\n",
    "WHERE DATE_TRUNC('month', order_date) :: DATE = '2018-06-01'\n",
    "GROUP BY delivr_week\n",
    "ORDER BY delivr_week ASC;\n",
    "\n",
    "\n",
    "```"
   ]
  },
  {
   "cell_type": "markdown",
   "id": "a527b64e",
   "metadata": {},
   "source": [
    "#### Task3. Calculate cost per meal ID.\n",
    "Set the LIMIT to 5"
   ]
  },
  {
   "cell_type": "markdown",
   "id": "04ad78b2",
   "metadata": {},
   "source": [
    "```sql\n",
    "\n",
    "SELECT\n",
    "  meals.meal_id,\n",
    "  sum(meal_cost*stocked_quantity) AS cost\n",
    "FROM meals\n",
    "JOIN stock ON meals.meal_id = stock.meal_id\n",
    "GROUP BY meals.meal_id\n",
    "ORDER BY cost DESC\n",
    "-- Only the top 5 meal IDs by purchase cost\n",
    "LIMIT 5,\n",
    "\n",
    "```"
   ]
  },
  {
   "cell_type": "markdown",
   "id": "dfb3b43d",
   "metadata": {},
   "source": [
    "#### Task4. Calculate cost per month.A query to calculate cost per month, wrapped in a CTE,"
   ]
  },
  {
   "cell_type": "markdown",
   "id": "f12fbddc",
   "metadata": {},
   "source": [
    "```sql\n",
    "\n",
    "-- Declare a CTE named monthly_cost\n",
    "WITH monthly_cost AS (\n",
    "  SELECT\n",
    "    DATE_TRUNC('month', stocking_date)::DATE AS delivr_month,\n",
    "    SUM(meal_cost * stocked_quantity) AS cost\n",
    "  FROM meals\n",
    "  JOIN stock ON meals.meal_id = stock.meal_id\n",
    "  GROUP BY delivr_month)\n",
    "\n",
    "SELECT\n",
    "  -- Calculate the average monthly cost before September\n",
    "  avg(cost)\n",
    "FROM monthly_cost\n",
    "WHERE delivr_month < '2018-09-01';\n",
    "\n",
    "```"
   ]
  },
  {
   "cell_type": "markdown",
   "id": "9e37f2ee",
   "metadata": {},
   "source": [
    "#### Task5. Calculate revenue per eatery in the revenue CTE.\n",
    "Calculate cost per eatery in the cost CTE.\n",
    "Join the two CTEs and calculate profit per eatery."
   ]
  },
  {
   "cell_type": "markdown",
   "id": "b632da2c",
   "metadata": {},
   "source": [
    "```sql\n",
    "WITH revenue AS (\n",
    "  -- Calculate revenue per eatery\n",
    "  SELECT meals.eatery,\n",
    "        sum(meals.meal_price * orders.order_quantity) AS revenue\n",
    "    FROM meals\n",
    "    JOIN orders ON meals.meal_id = orders.meal_id\n",
    "   GROUP BY eatery),\n",
    "\n",
    "  cost AS (\n",
    "    SELECT meals.eatery,\n",
    "         sum(stock.stocked_quantity*meals.meal_cost) AS cost\n",
    "    FROM meals\n",
    "    JOIN stock ON meals.meal_id = stock.meal_id\n",
    "   GROUP BY eatery)\n",
    "\n",
    "   -- Calculate profit per eatery\n",
    "   SELECT revenue.eatery,\n",
    "          (revenue.revenue -  cost.cost) as profit\n",
    "     FROM revenue\n",
    "     JOIN cost ON revenue.eatery = cost.eatery\n",
    "    ORDER BY profit DESC;\n",
    "    \n",
    "```"
   ]
  },
  {
   "cell_type": "markdown",
   "id": "e5ab4307",
   "metadata": {},
   "source": [
    "#### Task6 Calculate revenue per month in the revenue CTE.\n",
    "Calculate cost per month in the cost CTE.\n",
    "Join the two CTEs and calculate profit per month."
   ]
  },
  {
   "cell_type": "markdown",
   "id": "5ca46b40",
   "metadata": {},
   "source": [
    "```sql\n",
    "-- Set up the revenue CTE\n",
    "WITH revenue AS ( \n",
    "\tSELECT\n",
    "\t\tDATE_TRUNC('month', order_date) :: DATE AS delivr_month,\n",
    "\t\tsum(meals.meal_price*orders.order_quantity) AS revenue\n",
    "\tFROM meals\n",
    "\tJOIN orders ON meals.meal_id = orders.meal_id\n",
    "\tGROUP BY delivr_month),\n",
    "-- Set up the cost CTE\n",
    "  cost AS (\n",
    " \tSELECT\n",
    "\t\tDATE_TRUNC('month', stocking_date) :: DATE AS delivr_month,\n",
    "\t\tsum(stock.stocked_quantity*meals.meal_cost) AS cost\n",
    "\tFROM meals\n",
    "    JOIN stock ON meals.meal_id = stock.meal_id\n",
    "\tGROUP BY delivr_month)\n",
    "-- Calculate profit by joining the CTEs\n",
    "SELECT\n",
    "\trevenue.delivr_month,\n",
    "\trevenue.revenue - cost.cost AS profit\n",
    "FROM revenue\n",
    "JOIN cost ON revenue.delivr_month = cost.delivr_month\n",
    "ORDER BY revenue.delivr_month ASC;\n",
    "\n",
    "```\n"
   ]
  },
  {
   "cell_type": "markdown",
   "id": "00b072e2",
   "metadata": {},
   "source": []
  },
  {
   "cell_type": "code",
   "execution_count": null,
   "id": "75e90b6a",
   "metadata": {},
   "outputs": [],
   "source": []
  }
 ],
 "metadata": {
  "kernelspec": {
   "display_name": "Python 3 (ipykernel)",
   "language": "python",
   "name": "python3"
  },
  "language_info": {
   "codemirror_mode": {
    "name": "ipython",
    "version": 3
   },
   "file_extension": ".py",
   "mimetype": "text/x-python",
   "name": "python",
   "nbconvert_exporter": "python",
   "pygments_lexer": "ipython3",
   "version": "3.10.9"
  }
 },
 "nbformat": 4,
 "nbformat_minor": 5
}
